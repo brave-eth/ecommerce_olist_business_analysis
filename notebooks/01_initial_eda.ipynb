{
 "cells": [
  {
   "cell_type": "code",
   "execution_count": null,
   "metadata": {},
   "outputs": [],
   "source": [
    "# 1. Download Olist dataset from Kaggle\n",
    "# Place all CSV files in data/raw/\n",
    "\n",
    "# 2. Create a quick Python script to verify data loading\n",
    "# In scripts/check_data.py\n",
    "\n",
    "import pandas as pd\n",
    "import os\n",
    "\n",
    "def check_data():\n",
    "    data_path = '../data/raw'\n",
    "    for file in os.listdir(data_path):\n",
    "        if file.endswith('.csv'):\n",
    "            df = pd.read_csv(os.path.join(data_path, file))\n",
    "            print(f\"\\nFile: {file}\")\n",
    "            print(f\"Shape: {df.shape}\")\n",
    "            print(\"Columns:\", df.columns.tolist())\n",
    "            print(\"Missing values:\", df.isnull().sum().sum())\n",
    "\n",
    "if __name__ == \"__main__\":\n",
    "    check_data()"
   ]
  }
 ],
 "metadata": {
  "kernelspec": {
   "display_name": "tensorflow_env",
   "language": "python",
   "name": "python3"
  },
  "language_info": {
   "name": "python",
   "version": "3.9.21"
  }
 },
 "nbformat": 4,
 "nbformat_minor": 2
}
